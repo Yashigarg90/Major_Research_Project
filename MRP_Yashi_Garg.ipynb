{
 "cells": [
  {
   "cell_type": "markdown",
   "metadata": {},
   "source": [
    "# MRP (Creditworthiness) - Submitted By Yashi_Garg"
   ]
  },
  {
   "cell_type": "markdown",
   "metadata": {},
   "source": [
    "# EDA "
   ]
  },
  {
   "cell_type": "code",
   "execution_count": 104,
   "metadata": {},
   "outputs": [],
   "source": [
    "#pip install seaborn"
   ]
  },
  {
   "cell_type": "code",
   "execution_count": 105,
   "metadata": {},
   "outputs": [],
   "source": [
    "import numpy as np\n",
    "import pandas as pd\n",
    "import seaborn as sns\n",
    "import matplotlib.pyplot as plt\n",
    "%matplotlib inline"
   ]
  },
  {
   "cell_type": "code",
   "execution_count": 106,
   "metadata": {},
   "outputs": [
    {
     "name": "stderr",
     "output_type": "stream",
     "text": [
      "C:\\Users\\yashi\\AppData\\Local\\Temp/ipykernel_24432/155855730.py:4: DtypeWarning: Columns (0,19,49,59,118,129,130,131,134,135,136,139,145,146,147) have mixed types. Specify dtype option on import or set low_memory=False.\n",
      "  acc_df = pd.read_csv(\"C:\\\\Users\\\\yashi\\\\Downloads\\\\MRP\\\\Dataset\\\\Lending_Club_Dataset\\\\accepted_2007_to_2018q4.csv\\\\accepted_2007_to_2018Q4.csv\")\n"
     ]
    },
    {
     "data": {
      "text/html": [
       "<div>\n",
       "<style scoped>\n",
       "    .dataframe tbody tr th:only-of-type {\n",
       "        vertical-align: middle;\n",
       "    }\n",
       "\n",
       "    .dataframe tbody tr th {\n",
       "        vertical-align: top;\n",
       "    }\n",
       "\n",
       "    .dataframe thead th {\n",
       "        text-align: right;\n",
       "    }\n",
       "</style>\n",
       "<table border=\"1\" class=\"dataframe\">\n",
       "  <thead>\n",
       "    <tr style=\"text-align: right;\">\n",
       "      <th></th>\n",
       "      <th>id</th>\n",
       "      <th>member_id</th>\n",
       "      <th>loan_amnt</th>\n",
       "      <th>funded_amnt</th>\n",
       "      <th>funded_amnt_inv</th>\n",
       "      <th>term</th>\n",
       "      <th>int_rate</th>\n",
       "      <th>installment</th>\n",
       "      <th>grade</th>\n",
       "      <th>sub_grade</th>\n",
       "      <th>...</th>\n",
       "      <th>hardship_payoff_balance_amount</th>\n",
       "      <th>hardship_last_payment_amount</th>\n",
       "      <th>disbursement_method</th>\n",
       "      <th>debt_settlement_flag</th>\n",
       "      <th>debt_settlement_flag_date</th>\n",
       "      <th>settlement_status</th>\n",
       "      <th>settlement_date</th>\n",
       "      <th>settlement_amount</th>\n",
       "      <th>settlement_percentage</th>\n",
       "      <th>settlement_term</th>\n",
       "    </tr>\n",
       "  </thead>\n",
       "  <tbody>\n",
       "    <tr>\n",
       "      <th>0</th>\n",
       "      <td>68407277</td>\n",
       "      <td>NaN</td>\n",
       "      <td>3600.0</td>\n",
       "      <td>3600.0</td>\n",
       "      <td>3600.0</td>\n",
       "      <td>36 months</td>\n",
       "      <td>13.99</td>\n",
       "      <td>123.03</td>\n",
       "      <td>C</td>\n",
       "      <td>C4</td>\n",
       "      <td>...</td>\n",
       "      <td>NaN</td>\n",
       "      <td>NaN</td>\n",
       "      <td>Cash</td>\n",
       "      <td>N</td>\n",
       "      <td>NaN</td>\n",
       "      <td>NaN</td>\n",
       "      <td>NaN</td>\n",
       "      <td>NaN</td>\n",
       "      <td>NaN</td>\n",
       "      <td>NaN</td>\n",
       "    </tr>\n",
       "    <tr>\n",
       "      <th>1</th>\n",
       "      <td>68355089</td>\n",
       "      <td>NaN</td>\n",
       "      <td>24700.0</td>\n",
       "      <td>24700.0</td>\n",
       "      <td>24700.0</td>\n",
       "      <td>36 months</td>\n",
       "      <td>11.99</td>\n",
       "      <td>820.28</td>\n",
       "      <td>C</td>\n",
       "      <td>C1</td>\n",
       "      <td>...</td>\n",
       "      <td>NaN</td>\n",
       "      <td>NaN</td>\n",
       "      <td>Cash</td>\n",
       "      <td>N</td>\n",
       "      <td>NaN</td>\n",
       "      <td>NaN</td>\n",
       "      <td>NaN</td>\n",
       "      <td>NaN</td>\n",
       "      <td>NaN</td>\n",
       "      <td>NaN</td>\n",
       "    </tr>\n",
       "    <tr>\n",
       "      <th>2</th>\n",
       "      <td>68341763</td>\n",
       "      <td>NaN</td>\n",
       "      <td>20000.0</td>\n",
       "      <td>20000.0</td>\n",
       "      <td>20000.0</td>\n",
       "      <td>60 months</td>\n",
       "      <td>10.78</td>\n",
       "      <td>432.66</td>\n",
       "      <td>B</td>\n",
       "      <td>B4</td>\n",
       "      <td>...</td>\n",
       "      <td>NaN</td>\n",
       "      <td>NaN</td>\n",
       "      <td>Cash</td>\n",
       "      <td>N</td>\n",
       "      <td>NaN</td>\n",
       "      <td>NaN</td>\n",
       "      <td>NaN</td>\n",
       "      <td>NaN</td>\n",
       "      <td>NaN</td>\n",
       "      <td>NaN</td>\n",
       "    </tr>\n",
       "    <tr>\n",
       "      <th>3</th>\n",
       "      <td>66310712</td>\n",
       "      <td>NaN</td>\n",
       "      <td>35000.0</td>\n",
       "      <td>35000.0</td>\n",
       "      <td>35000.0</td>\n",
       "      <td>60 months</td>\n",
       "      <td>14.85</td>\n",
       "      <td>829.90</td>\n",
       "      <td>C</td>\n",
       "      <td>C5</td>\n",
       "      <td>...</td>\n",
       "      <td>NaN</td>\n",
       "      <td>NaN</td>\n",
       "      <td>Cash</td>\n",
       "      <td>N</td>\n",
       "      <td>NaN</td>\n",
       "      <td>NaN</td>\n",
       "      <td>NaN</td>\n",
       "      <td>NaN</td>\n",
       "      <td>NaN</td>\n",
       "      <td>NaN</td>\n",
       "    </tr>\n",
       "    <tr>\n",
       "      <th>4</th>\n",
       "      <td>68476807</td>\n",
       "      <td>NaN</td>\n",
       "      <td>10400.0</td>\n",
       "      <td>10400.0</td>\n",
       "      <td>10400.0</td>\n",
       "      <td>60 months</td>\n",
       "      <td>22.45</td>\n",
       "      <td>289.91</td>\n",
       "      <td>F</td>\n",
       "      <td>F1</td>\n",
       "      <td>...</td>\n",
       "      <td>NaN</td>\n",
       "      <td>NaN</td>\n",
       "      <td>Cash</td>\n",
       "      <td>N</td>\n",
       "      <td>NaN</td>\n",
       "      <td>NaN</td>\n",
       "      <td>NaN</td>\n",
       "      <td>NaN</td>\n",
       "      <td>NaN</td>\n",
       "      <td>NaN</td>\n",
       "    </tr>\n",
       "  </tbody>\n",
       "</table>\n",
       "<p>5 rows × 151 columns</p>\n",
       "</div>"
      ],
      "text/plain": [
       "         id  member_id  loan_amnt  funded_amnt  funded_amnt_inv        term  \\\n",
       "0  68407277        NaN     3600.0       3600.0           3600.0   36 months   \n",
       "1  68355089        NaN    24700.0      24700.0          24700.0   36 months   \n",
       "2  68341763        NaN    20000.0      20000.0          20000.0   60 months   \n",
       "3  66310712        NaN    35000.0      35000.0          35000.0   60 months   \n",
       "4  68476807        NaN    10400.0      10400.0          10400.0   60 months   \n",
       "\n",
       "   int_rate  installment grade sub_grade  ... hardship_payoff_balance_amount  \\\n",
       "0     13.99       123.03     C        C4  ...                            NaN   \n",
       "1     11.99       820.28     C        C1  ...                            NaN   \n",
       "2     10.78       432.66     B        B4  ...                            NaN   \n",
       "3     14.85       829.90     C        C5  ...                            NaN   \n",
       "4     22.45       289.91     F        F1  ...                            NaN   \n",
       "\n",
       "  hardship_last_payment_amount disbursement_method  debt_settlement_flag  \\\n",
       "0                          NaN                Cash                     N   \n",
       "1                          NaN                Cash                     N   \n",
       "2                          NaN                Cash                     N   \n",
       "3                          NaN                Cash                     N   \n",
       "4                          NaN                Cash                     N   \n",
       "\n",
       "  debt_settlement_flag_date settlement_status settlement_date  \\\n",
       "0                       NaN               NaN             NaN   \n",
       "1                       NaN               NaN             NaN   \n",
       "2                       NaN               NaN             NaN   \n",
       "3                       NaN               NaN             NaN   \n",
       "4                       NaN               NaN             NaN   \n",
       "\n",
       "  settlement_amount settlement_percentage settlement_term  \n",
       "0               NaN                   NaN             NaN  \n",
       "1               NaN                   NaN             NaN  \n",
       "2               NaN                   NaN             NaN  \n",
       "3               NaN                   NaN             NaN  \n",
       "4               NaN                   NaN             NaN  \n",
       "\n",
       "[5 rows x 151 columns]"
      ]
     },
     "execution_count": 106,
     "metadata": {},
     "output_type": "execute_result"
    }
   ],
   "source": [
    "# there are two csv files in this Lending Club loan dataset (accepted_2007_to_2018Q4.csv,rejected_2007_to_2018Q4.csv)\n",
    "\n",
    "\n",
    "acc_df = pd.read_csv(\"C:\\\\Users\\\\yashi\\\\Downloads\\\\MRP\\\\Dataset\\\\Lending_Club_Dataset\\\\accepted_2007_to_2018q4.csv\\\\accepted_2007_to_2018Q4.csv\")\n",
    "acc_df.head()\n",
    "\n"
   ]
  },
  {
   "cell_type": "code",
   "execution_count": 107,
   "metadata": {
    "scrolled": true
   },
   "outputs": [
    {
     "data": {
      "text/plain": [
       "(2260701, 151)"
      ]
     },
     "execution_count": 107,
     "metadata": {},
     "output_type": "execute_result"
    }
   ],
   "source": [
    "acc_df.shape #checking shape of the dataframe"
   ]
  },
  {
   "cell_type": "code",
   "execution_count": 108,
   "metadata": {},
   "outputs": [
    {
     "data": {
      "text/plain": [
       "id                             0\n",
       "member_id                2260701\n",
       "loan_amnt                     33\n",
       "funded_amnt                   33\n",
       "funded_amnt_inv               33\n",
       "                          ...   \n",
       "settlement_status        2226455\n",
       "settlement_date          2226455\n",
       "settlement_amount        2226455\n",
       "settlement_percentage    2226455\n",
       "settlement_term          2226455\n",
       "Length: 151, dtype: int64"
      ]
     },
     "execution_count": 108,
     "metadata": {},
     "output_type": "execute_result"
    }
   ],
   "source": [
    "# Let's check the no. of missing values in each column\n",
    "acc_df.isnull().sum()"
   ]
  },
  {
   "cell_type": "code",
   "execution_count": 109,
   "metadata": {},
   "outputs": [
    {
     "data": {
      "text/plain": [
       "id                         0.0\n",
       "member_id                100.0\n",
       "loan_amnt                  0.0\n",
       "funded_amnt                0.0\n",
       "funded_amnt_inv            0.0\n",
       "                         ...  \n",
       "settlement_status         98.0\n",
       "settlement_date           98.0\n",
       "settlement_amount         98.0\n",
       "settlement_percentage     98.0\n",
       "settlement_term           98.0\n",
       "Length: 151, dtype: float64"
      ]
     },
     "execution_count": 109,
     "metadata": {},
     "output_type": "execute_result"
    }
   ],
   "source": [
    "# and the % of missing values in each column\n",
    "round(acc_df.isnull().sum()/len(acc_df.index), 2)*100"
   ]
  },
  {
   "cell_type": "code",
   "execution_count": 110,
   "metadata": {},
   "outputs": [
    {
     "name": "stdout",
     "output_type": "stream",
     "text": [
      "Index(['member_id', 'desc', 'mths_since_last_delinq', 'mths_since_last_record',\n",
      "       'next_pymnt_d', 'mths_since_last_major_derog', 'annual_inc_joint',\n",
      "       'dti_joint', 'verification_status_joint', 'open_acc_6m', 'open_act_il',\n",
      "       'open_il_12m', 'open_il_24m', 'mths_since_rcnt_il', 'total_bal_il',\n",
      "       'il_util', 'open_rv_12m', 'open_rv_24m', 'max_bal_bc', 'all_util',\n",
      "       'inq_fi', 'total_cu_tl', 'inq_last_12m', 'mths_since_recent_bc_dlq',\n",
      "       'mths_since_recent_revol_delinq', 'revol_bal_joint',\n",
      "       'sec_app_fico_range_low', 'sec_app_fico_range_high',\n",
      "       'sec_app_earliest_cr_line', 'sec_app_inq_last_6mths',\n",
      "       'sec_app_mort_acc', 'sec_app_open_acc', 'sec_app_revol_util',\n",
      "       'sec_app_open_act_il', 'sec_app_num_rev_accts',\n",
      "       'sec_app_chargeoff_within_12_mths',\n",
      "       'sec_app_collections_12_mths_ex_med',\n",
      "       'sec_app_mths_since_last_major_derog', 'hardship_type',\n",
      "       'hardship_reason', 'hardship_status', 'deferral_term',\n",
      "       'hardship_amount', 'hardship_start_date', 'hardship_end_date',\n",
      "       'payment_plan_start_date', 'hardship_length', 'hardship_dpd',\n",
      "       'hardship_loan_status', 'orig_projected_additional_accrued_interest',\n",
      "       'hardship_payoff_balance_amount', 'hardship_last_payment_amount',\n",
      "       'debt_settlement_flag_date', 'settlement_status', 'settlement_date',\n",
      "       'settlement_amount', 'settlement_percentage', 'settlement_term'],\n",
      "      dtype='object')\n"
     ]
    }
   ],
   "source": [
    "# there are many columns which have so many missing values\n",
    "# now removing the columns having more than 35% missing values, as these would be unneccessary for our analysis\n",
    "missing_columns = acc_df.columns[100*(acc_df.isnull().sum()/len(acc_df.index)) > 35]\n",
    "print(missing_columns)"
   ]
  },
  {
   "cell_type": "code",
   "execution_count": 111,
   "metadata": {},
   "outputs": [
    {
     "name": "stdout",
     "output_type": "stream",
     "text": [
      "(2260701, 93)\n"
     ]
    }
   ],
   "source": [
    "# drop the missing columns\n",
    "\n",
    "acc_df = acc_df.drop(missing_columns, axis=1)\n",
    "print(acc_df.shape)"
   ]
  },
  {
   "cell_type": "code",
   "execution_count": 112,
   "metadata": {
    "scrolled": true
   },
   "outputs": [
    {
     "name": "stdout",
     "output_type": "stream",
     "text": [
      "<class 'pandas.core.frame.DataFrame'>\n",
      "RangeIndex: 2260701 entries, 0 to 2260700\n",
      "Data columns (total 93 columns):\n",
      " #   Column                      Dtype  \n",
      "---  ------                      -----  \n",
      " 0   id                          object \n",
      " 1   loan_amnt                   float64\n",
      " 2   funded_amnt                 float64\n",
      " 3   funded_amnt_inv             float64\n",
      " 4   term                        object \n",
      " 5   int_rate                    float64\n",
      " 6   installment                 float64\n",
      " 7   grade                       object \n",
      " 8   sub_grade                   object \n",
      " 9   emp_title                   object \n",
      " 10  emp_length                  object \n",
      " 11  home_ownership              object \n",
      " 12  annual_inc                  float64\n",
      " 13  verification_status         object \n",
      " 14  issue_d                     object \n",
      " 15  loan_status                 object \n",
      " 16  pymnt_plan                  object \n",
      " 17  url                         object \n",
      " 18  purpose                     object \n",
      " 19  title                       object \n",
      " 20  zip_code                    object \n",
      " 21  addr_state                  object \n",
      " 22  dti                         float64\n",
      " 23  delinq_2yrs                 float64\n",
      " 24  earliest_cr_line            object \n",
      " 25  fico_range_low              float64\n",
      " 26  fico_range_high             float64\n",
      " 27  inq_last_6mths              float64\n",
      " 28  open_acc                    float64\n",
      " 29  pub_rec                     float64\n",
      " 30  revol_bal                   float64\n",
      " 31  revol_util                  float64\n",
      " 32  total_acc                   float64\n",
      " 33  initial_list_status         object \n",
      " 34  out_prncp                   float64\n",
      " 35  out_prncp_inv               float64\n",
      " 36  total_pymnt                 float64\n",
      " 37  total_pymnt_inv             float64\n",
      " 38  total_rec_prncp             float64\n",
      " 39  total_rec_int               float64\n",
      " 40  total_rec_late_fee          float64\n",
      " 41  recoveries                  float64\n",
      " 42  collection_recovery_fee     float64\n",
      " 43  last_pymnt_d                object \n",
      " 44  last_pymnt_amnt             float64\n",
      " 45  last_credit_pull_d          object \n",
      " 46  last_fico_range_high        float64\n",
      " 47  last_fico_range_low         float64\n",
      " 48  collections_12_mths_ex_med  float64\n",
      " 49  policy_code                 float64\n",
      " 50  application_type            object \n",
      " 51  acc_now_delinq              float64\n",
      " 52  tot_coll_amt                float64\n",
      " 53  tot_cur_bal                 float64\n",
      " 54  total_rev_hi_lim            float64\n",
      " 55  acc_open_past_24mths        float64\n",
      " 56  avg_cur_bal                 float64\n",
      " 57  bc_open_to_buy              float64\n",
      " 58  bc_util                     float64\n",
      " 59  chargeoff_within_12_mths    float64\n",
      " 60  delinq_amnt                 float64\n",
      " 61  mo_sin_old_il_acct          float64\n",
      " 62  mo_sin_old_rev_tl_op        float64\n",
      " 63  mo_sin_rcnt_rev_tl_op       float64\n",
      " 64  mo_sin_rcnt_tl              float64\n",
      " 65  mort_acc                    float64\n",
      " 66  mths_since_recent_bc        float64\n",
      " 67  mths_since_recent_inq       float64\n",
      " 68  num_accts_ever_120_pd       float64\n",
      " 69  num_actv_bc_tl              float64\n",
      " 70  num_actv_rev_tl             float64\n",
      " 71  num_bc_sats                 float64\n",
      " 72  num_bc_tl                   float64\n",
      " 73  num_il_tl                   float64\n",
      " 74  num_op_rev_tl               float64\n",
      " 75  num_rev_accts               float64\n",
      " 76  num_rev_tl_bal_gt_0         float64\n",
      " 77  num_sats                    float64\n",
      " 78  num_tl_120dpd_2m            float64\n",
      " 79  num_tl_30dpd                float64\n",
      " 80  num_tl_90g_dpd_24m          float64\n",
      " 81  num_tl_op_past_12m          float64\n",
      " 82  pct_tl_nvr_dlq              float64\n",
      " 83  percent_bc_gt_75            float64\n",
      " 84  pub_rec_bankruptcies        float64\n",
      " 85  tax_liens                   float64\n",
      " 86  tot_hi_cred_lim             float64\n",
      " 87  total_bal_ex_mort           float64\n",
      " 88  total_bc_limit              float64\n",
      " 89  total_il_high_credit_limit  float64\n",
      " 90  hardship_flag               object \n",
      " 91  disbursement_method         object \n",
      " 92  debt_settlement_flag        object \n",
      "dtypes: float64(69), object(24)\n",
      "memory usage: 1.6+ GB\n"
     ]
    }
   ],
   "source": [
    "acc_df.info() #checking data types"
   ]
  },
  {
   "cell_type": "code",
   "execution_count": 113,
   "metadata": {},
   "outputs": [
    {
     "data": {
      "text/plain": [
       "Fully Paid                                             1076751\n",
       "Current                                                 878317\n",
       "Charged Off                                             268559\n",
       "Late (31-120 days)                                       21467\n",
       "In Grace Period                                           8436\n",
       "Late (16-30 days)                                         4349\n",
       "Does not meet the credit policy. Status:Fully Paid        1988\n",
       "Does not meet the credit policy. Status:Charged Off        761\n",
       "Default                                                     40\n",
       "Name: loan_status, dtype: int64"
      ]
     },
     "execution_count": 113,
     "metadata": {},
     "output_type": "execute_result"
    }
   ],
   "source": [
    "# let's check the categorical values of our target column\n",
    "\n",
    "acc_df['loan_status'].value_counts()"
   ]
  },
  {
   "cell_type": "code",
   "execution_count": 114,
   "metadata": {},
   "outputs": [
    {
     "data": {
      "image/png": "[encoded data removed]",
      "text/plain": [
       "<Figure size 1440x360 with 1 Axes>"
      ]
     },
     "metadata": {
      "needs_background": "light"
     },
     "output_type": "display_data"
    }
   ],
   "source": [
    "# visualize these categorical values\n",
    "fig = plt.figure(figsize=(20,5))\n",
    "sns.countplot(y='loan_status', data=acc_df);\n"
   ]
  },
  {
   "cell_type": "code",
   "execution_count": 115,
   "metadata": {},
   "outputs": [
    {
     "data": {
      "text/html": [
       "<div>\n",
       "<style scoped>\n",
       "    .dataframe tbody tr th:only-of-type {\n",
       "        vertical-align: middle;\n",
       "    }\n",
       "\n",
       "    .dataframe tbody tr th {\n",
       "        vertical-align: top;\n",
       "    }\n",
       "\n",
       "    .dataframe thead th {\n",
       "        text-align: right;\n",
       "    }\n",
       "</style>\n",
       "<table border=\"1\" class=\"dataframe\">\n",
       "  <thead>\n",
       "    <tr style=\"text-align: right;\">\n",
       "      <th></th>\n",
       "      <th>id</th>\n",
       "      <th>loan_amnt</th>\n",
       "      <th>funded_amnt</th>\n",
       "      <th>funded_amnt_inv</th>\n",
       "      <th>term</th>\n",
       "      <th>int_rate</th>\n",
       "      <th>installment</th>\n",
       "      <th>grade</th>\n",
       "      <th>sub_grade</th>\n",
       "      <th>emp_title</th>\n",
       "      <th>...</th>\n",
       "      <th>percent_bc_gt_75</th>\n",
       "      <th>pub_rec_bankruptcies</th>\n",
       "      <th>tax_liens</th>\n",
       "      <th>tot_hi_cred_lim</th>\n",
       "      <th>total_bal_ex_mort</th>\n",
       "      <th>total_bc_limit</th>\n",
       "      <th>total_il_high_credit_limit</th>\n",
       "      <th>hardship_flag</th>\n",
       "      <th>disbursement_method</th>\n",
       "      <th>debt_settlement_flag</th>\n",
       "    </tr>\n",
       "  </thead>\n",
       "  <tbody>\n",
       "    <tr>\n",
       "      <th>0</th>\n",
       "      <td>68407277</td>\n",
       "      <td>3600.0</td>\n",
       "      <td>3600.0</td>\n",
       "      <td>3600.0</td>\n",
       "      <td>36 months</td>\n",
       "      <td>13.99</td>\n",
       "      <td>123.03</td>\n",
       "      <td>C</td>\n",
       "      <td>C4</td>\n",
       "      <td>leadman</td>\n",
       "      <td>...</td>\n",
       "      <td>0.0</td>\n",
       "      <td>0.0</td>\n",
       "      <td>0.0</td>\n",
       "      <td>178050.0</td>\n",
       "      <td>7746.0</td>\n",
       "      <td>2400.0</td>\n",
       "      <td>13734.0</td>\n",
       "      <td>N</td>\n",
       "      <td>Cash</td>\n",
       "      <td>N</td>\n",
       "    </tr>\n",
       "    <tr>\n",
       "      <th>1</th>\n",
       "      <td>68355089</td>\n",
       "      <td>24700.0</td>\n",
       "      <td>24700.0</td>\n",
       "      <td>24700.0</td>\n",
       "      <td>36 months</td>\n",
       "      <td>11.99</td>\n",
       "      <td>820.28</td>\n",
       "      <td>C</td>\n",
       "      <td>C1</td>\n",
       "      <td>Engineer</td>\n",
       "      <td>...</td>\n",
       "      <td>7.7</td>\n",
       "      <td>0.0</td>\n",
       "      <td>0.0</td>\n",
       "      <td>314017.0</td>\n",
       "      <td>39475.0</td>\n",
       "      <td>79300.0</td>\n",
       "      <td>24667.0</td>\n",
       "      <td>N</td>\n",
       "      <td>Cash</td>\n",
       "      <td>N</td>\n",
       "    </tr>\n",
       "    <tr>\n",
       "      <th>2</th>\n",
       "      <td>68341763</td>\n",
       "      <td>20000.0</td>\n",
       "      <td>20000.0</td>\n",
       "      <td>20000.0</td>\n",
       "      <td>60 months</td>\n",
       "      <td>10.78</td>\n",
       "      <td>432.66</td>\n",
       "      <td>B</td>\n",
       "      <td>B4</td>\n",
       "      <td>truck driver</td>\n",
       "      <td>...</td>\n",
       "      <td>50.0</td>\n",
       "      <td>0.0</td>\n",
       "      <td>0.0</td>\n",
       "      <td>218418.0</td>\n",
       "      <td>18696.0</td>\n",
       "      <td>6200.0</td>\n",
       "      <td>14877.0</td>\n",
       "      <td>N</td>\n",
       "      <td>Cash</td>\n",
       "      <td>N</td>\n",
       "    </tr>\n",
       "    <tr>\n",
       "      <th>4</th>\n",
       "      <td>68476807</td>\n",
       "      <td>10400.0</td>\n",
       "      <td>10400.0</td>\n",
       "      <td>10400.0</td>\n",
       "      <td>60 months</td>\n",
       "      <td>22.45</td>\n",
       "      <td>289.91</td>\n",
       "      <td>F</td>\n",
       "      <td>F1</td>\n",
       "      <td>Contract Specialist</td>\n",
       "      <td>...</td>\n",
       "      <td>60.0</td>\n",
       "      <td>0.0</td>\n",
       "      <td>0.0</td>\n",
       "      <td>439570.0</td>\n",
       "      <td>95768.0</td>\n",
       "      <td>20300.0</td>\n",
       "      <td>88097.0</td>\n",
       "      <td>N</td>\n",
       "      <td>Cash</td>\n",
       "      <td>N</td>\n",
       "    </tr>\n",
       "    <tr>\n",
       "      <th>5</th>\n",
       "      <td>68426831</td>\n",
       "      <td>11950.0</td>\n",
       "      <td>11950.0</td>\n",
       "      <td>11950.0</td>\n",
       "      <td>36 months</td>\n",
       "      <td>13.44</td>\n",
       "      <td>405.18</td>\n",
       "      <td>C</td>\n",
       "      <td>C3</td>\n",
       "      <td>Veterinary Tecnician</td>\n",
       "      <td>...</td>\n",
       "      <td>100.0</td>\n",
       "      <td>0.0</td>\n",
       "      <td>0.0</td>\n",
       "      <td>16900.0</td>\n",
       "      <td>12798.0</td>\n",
       "      <td>9400.0</td>\n",
       "      <td>4000.0</td>\n",
       "      <td>N</td>\n",
       "      <td>Cash</td>\n",
       "      <td>N</td>\n",
       "    </tr>\n",
       "  </tbody>\n",
       "</table>\n",
       "<p>5 rows × 93 columns</p>\n",
       "</div>"
      ],
      "text/plain": [
       "         id  loan_amnt  funded_amnt  funded_amnt_inv        term  int_rate  \\\n",
       "0  68407277     3600.0       3600.0           3600.0   36 months     13.99   \n",
       "1  68355089    24700.0      24700.0          24700.0   36 months     11.99   \n",
       "2  68341763    20000.0      20000.0          20000.0   60 months     10.78   \n",
       "4  68476807    10400.0      10400.0          10400.0   60 months     22.45   \n",
       "5  68426831    11950.0      11950.0          11950.0   36 months     13.44   \n",
       "\n",
       "   installment grade sub_grade             emp_title  ... percent_bc_gt_75  \\\n",
       "0       123.03     C        C4               leadman  ...              0.0   \n",
       "1       820.28     C        C1              Engineer  ...              7.7   \n",
       "2       432.66     B        B4          truck driver  ...             50.0   \n",
       "4       289.91     F        F1   Contract Specialist  ...             60.0   \n",
       "5       405.18     C        C3  Veterinary Tecnician  ...            100.0   \n",
       "\n",
       "  pub_rec_bankruptcies  tax_liens tot_hi_cred_lim total_bal_ex_mort  \\\n",
       "0                  0.0        0.0        178050.0            7746.0   \n",
       "1                  0.0        0.0        314017.0           39475.0   \n",
       "2                  0.0        0.0        218418.0           18696.0   \n",
       "4                  0.0        0.0        439570.0           95768.0   \n",
       "5                  0.0        0.0         16900.0           12798.0   \n",
       "\n",
       "  total_bc_limit total_il_high_credit_limit hardship_flag disbursement_method  \\\n",
       "0         2400.0                    13734.0             N                Cash   \n",
       "1        79300.0                    24667.0             N                Cash   \n",
       "2         6200.0                    14877.0             N                Cash   \n",
       "4        20300.0                    88097.0             N                Cash   \n",
       "5         9400.0                     4000.0             N                Cash   \n",
       "\n",
       "  debt_settlement_flag  \n",
       "0                    N  \n",
       "1                    N  \n",
       "2                    N  \n",
       "4                    N  \n",
       "5                    N  \n",
       "\n",
       "[5 rows x 93 columns]"
      ]
     },
     "execution_count": 115,
     "metadata": {},
     "output_type": "execute_result"
    }
   ],
   "source": [
    "#taking only Fully paid and charged off category which are more relevant in our analysis\n",
    "\n",
    "array = ['Charged Off', 'Fully Paid']\n",
    "acc_df = acc_df.loc[acc_df['loan_status'].isin(array)]\n",
    "acc_df.head()"
   ]
  },
  {
   "cell_type": "code",
   "execution_count": 116,
   "metadata": {
    "scrolled": true
   },
   "outputs": [
    {
     "name": "stdout",
     "output_type": "stream",
     "text": [
      "<class 'pandas.core.frame.DataFrame'>\n",
      "Int64Index: 1345310 entries, 0 to 2260697\n",
      "Data columns (total 93 columns):\n",
      " #   Column                      Non-Null Count    Dtype  \n",
      "---  ------                      --------------    -----  \n",
      " 0   id                          1345310 non-null  object \n",
      " 1   loan_amnt                   1345310 non-null  float64\n",
      " 2   funded_amnt                 1345310 non-null  float64\n",
      " 3   funded_amnt_inv             1345310 non-null  float64\n",
      " 4   term                        1345310 non-null  object \n",
      " 5   int_rate                    1345310 non-null  float64\n",
      " 6   installment                 1345310 non-null  float64\n",
      " 7   grade                       1345310 non-null  object \n",
      " 8   sub_grade                   1345310 non-null  object \n",
      " 9   emp_title                   1259525 non-null  object \n",
      " 10  emp_length                  1266799 non-null  object \n",
      " 11  home_ownership              1345310 non-null  object \n",
      " 12  annual_inc                  1345310 non-null  float64\n",
      " 13  verification_status         1345310 non-null  object \n",
      " 14  issue_d                     1345310 non-null  object \n",
      " 15  loan_status                 1345310 non-null  float64\n",
      " 16  pymnt_plan                  1345310 non-null  object \n",
      " 17  url                         1345310 non-null  object \n",
      " 18  purpose                     1345310 non-null  object \n",
      " 19  title                       1328651 non-null  object \n",
      " 20  zip_code                    1345309 non-null  object \n",
      " 21  addr_state                  1345310 non-null  object \n",
      " 22  dti                         1344936 non-null  float64\n",
      " 23  delinq_2yrs                 1345310 non-null  float64\n",
      " 24  earliest_cr_line            1345310 non-null  object \n",
      " 25  fico_range_low              1345310 non-null  float64\n",
      " 26  fico_range_high             1345310 non-null  float64\n",
      " 27  inq_last_6mths              1345309 non-null  float64\n",
      " 28  open_acc                    1345310 non-null  float64\n",
      " 29  pub_rec                     1345310 non-null  float64\n",
      " 30  revol_bal                   1345310 non-null  float64\n",
      " 31  revol_util                  1344453 non-null  float64\n",
      " 32  total_acc                   1345310 non-null  float64\n",
      " 33  initial_list_status         1345310 non-null  object \n",
      " 34  out_prncp                   1345310 non-null  float64\n",
      " 35  out_prncp_inv               1345310 non-null  float64\n",
      " 36  total_pymnt                 1345310 non-null  float64\n",
      " 37  total_pymnt_inv             1345310 non-null  float64\n",
      " 38  total_rec_prncp             1345310 non-null  float64\n",
      " 39  total_rec_int               1345310 non-null  float64\n",
      " 40  total_rec_late_fee          1345310 non-null  float64\n",
      " 41  recoveries                  1345310 non-null  float64\n",
      " 42  collection_recovery_fee     1345310 non-null  float64\n",
      " 43  last_pymnt_d                1342997 non-null  object \n",
      " 44  last_pymnt_amnt             1345310 non-null  float64\n",
      " 45  last_credit_pull_d          1345255 non-null  object \n",
      " 46  last_fico_range_high        1345310 non-null  float64\n",
      " 47  last_fico_range_low         1345310 non-null  float64\n",
      " 48  collections_12_mths_ex_med  1345254 non-null  float64\n",
      " 49  policy_code                 1345310 non-null  float64\n",
      " 50  application_type            1345310 non-null  object \n",
      " 51  acc_now_delinq              1345310 non-null  float64\n",
      " 52  tot_coll_amt                1277783 non-null  float64\n",
      " 53  tot_cur_bal                 1277783 non-null  float64\n",
      " 54  total_rev_hi_lim            1277783 non-null  float64\n",
      " 55  acc_open_past_24mths        1298029 non-null  float64\n",
      " 56  avg_cur_bal                 1277761 non-null  float64\n",
      " 57  bc_open_to_buy              1284167 non-null  float64\n",
      " 58  bc_util                     1283398 non-null  float64\n",
      " 59  chargeoff_within_12_mths    1345254 non-null  float64\n",
      " 60  delinq_amnt                 1345310 non-null  float64\n",
      " 61  mo_sin_old_il_acct          1239735 non-null  float64\n",
      " 62  mo_sin_old_rev_tl_op        1277782 non-null  float64\n",
      " 63  mo_sin_rcnt_rev_tl_op       1277782 non-null  float64\n",
      " 64  mo_sin_rcnt_tl              1277783 non-null  float64\n",
      " 65  mort_acc                    1298029 non-null  float64\n",
      " 66  mths_since_recent_bc        1285089 non-null  float64\n",
      " 67  mths_since_recent_inq       1171239 non-null  float64\n",
      " 68  num_accts_ever_120_pd       1277783 non-null  float64\n",
      " 69  num_actv_bc_tl              1277783 non-null  float64\n",
      " 70  num_actv_rev_tl             1277783 non-null  float64\n",
      " 71  num_bc_sats                 1289469 non-null  float64\n",
      " 72  num_bc_tl                   1277783 non-null  float64\n",
      " 73  num_il_tl                   1277783 non-null  float64\n",
      " 74  num_op_rev_tl               1277783 non-null  float64\n",
      " 75  num_rev_accts               1277782 non-null  float64\n",
      " 76  num_rev_tl_bal_gt_0         1277783 non-null  float64\n",
      " 77  num_sats                    1289469 non-null  float64\n",
      " 78  num_tl_120dpd_2m            1227909 non-null  float64\n",
      " 79  num_tl_30dpd                1277783 non-null  float64\n",
      " 80  num_tl_90g_dpd_24m          1277783 non-null  float64\n",
      " 81  num_tl_op_past_12m          1277783 non-null  float64\n",
      " 82  pct_tl_nvr_dlq              1277629 non-null  float64\n",
      " 83  percent_bc_gt_75            1283755 non-null  float64\n",
      " 84  pub_rec_bankruptcies        1344613 non-null  float64\n",
      " 85  tax_liens                   1345271 non-null  float64\n",
      " 86  tot_hi_cred_lim             1277783 non-null  float64\n",
      " 87  total_bal_ex_mort           1298029 non-null  float64\n",
      " 88  total_bc_limit              1298029 non-null  float64\n",
      " 89  total_il_high_credit_limit  1277783 non-null  float64\n",
      " 90  hardship_flag               1345310 non-null  object \n",
      " 91  disbursement_method         1345310 non-null  object \n",
      " 92  debt_settlement_flag        1345310 non-null  object \n",
      "dtypes: float64(70), object(23)\n",
      "memory usage: 964.8+ MB\n"
     ]
    }
   ],
   "source": [
    "# Set values for the categories as 1 and 0\n",
    "\n",
    "set_value = {\"loan_status\": { \"Fully Paid\": 1.0, \"Charged Off\": 0.0}}\n",
    "acc_df = acc_df.replace(set_value)\n",
    "acc_df.info()"
   ]
  },
  {
   "cell_type": "code",
   "execution_count": 117,
   "metadata": {},
   "outputs": [
    {
     "data": {
      "text/plain": [
       "1.0    1076751\n",
       "0.0     268559\n",
       "Name: loan_status, dtype: int64"
      ]
     },
     "execution_count": 117,
     "metadata": {},
     "output_type": "execute_result"
    }
   ],
   "source": [
    "acc_df['loan_status'].value_counts() #check the count "
   ]
  },
  {
   "cell_type": "code",
   "execution_count": 118,
   "metadata": {},
   "outputs": [
    {
     "data": {
      "image/png": "[encoded data removed]",
      "text/plain": [
       "<Figure size 1440x1080 with 1 Axes>"
      ]
     },
     "metadata": {
      "needs_background": "light"
     },
     "output_type": "display_data"
    }
   ],
   "source": [
    "#visualize the top 10 jobs title applied for a loan\n",
    "\n",
    "plt.figure(figsize=(20, 15))\n",
    "plt.subplot(2, 2, 2)\n",
    "plt.barh(acc_df.emp_title.value_counts()[:10].index, acc_df.emp_title.value_counts()[:10])\n",
    "plt.title(\"The top 10 jobs title applied for a loan\")\n",
    "plt.tight_layout()"
   ]
  },
  {
   "cell_type": "code",
   "execution_count": 119,
   "metadata": {},
   "outputs": [],
   "source": [
    "# visualize the columns, I took this code from internet (merge all visualization in one)\n",
    "\n",
    "def create_countplot(axes, x_val,order_val, title, rotation=\"n\"):\n",
    "    sns.countplot(ax= axes, data=acc_df, x=x_val, order = order_val.value_counts(dropna= False).index,hue = \"loan_status\")\n",
    "    axes.set_title(title)\n",
    "    if rotation ==\"y\":\n",
    "        axes.set_xticklabels(list(order_val.unique()), rotation=90)"
   ]
  },
  {
   "cell_type": "code",
   "execution_count": 120,
   "metadata": {},
   "outputs": [
    {
     "data": {
      "image/png": "[encoded data removed]",
      "text/plain": [
       "<Figure size 1440x720 with 6 Axes>"
      ]
     },
     "metadata": {
      "needs_background": "light"
     },
     "output_type": "display_data"
    }
   ],
   "source": [
    "fig, ax = plt.subplots(2,3, figsize= (20,10))\n",
    "\n",
    "create_countplot(ax[0,0],'term', acc_df[\"term\"],\"The number of payments on the loan (months)\" )\n",
    "\n",
    "create_countplot(ax[0,1],'grade', acc_df[\"grade\"],\"Loan grade\")\n",
    "\n",
    "create_countplot(ax[0,2],'sub_grade', acc_df[\"sub_grade\"],\"Loan sub_grade\",\"y\")\n",
    "\n",
    "create_countplot(ax[1,0],'emp_length', acc_df[\"emp_length\"],\"Borrower length of employment (years)\", \"y\" )\n",
    "\n",
    "create_countplot(ax[1,1],'home_ownership', acc_df[\"home_ownership\"],\"Borrower home ownership status\" )\n",
    "\n",
    "create_countplot(ax[1,2],'verification_status', acc_df[\"verification_status\"],\"verification_status\" )\n",
    "\n",
    "plt.tight_layout()\n",
    "plt.show()"
   ]
  },
  {
   "cell_type": "code",
   "execution_count": null,
   "metadata": {},
   "outputs": [],
   "source": []
  },
  {
   "cell_type": "code",
   "execution_count": 121,
   "metadata": {},
   "outputs": [
    {
     "data": {
      "image/png": "[encoded data removed]",
      "text/plain": [
       "<Figure size 1440x432 with 3 Axes>"
      ]
     },
     "metadata": {
      "needs_background": "light"
     },
     "output_type": "display_data"
    }
   ],
   "source": [
    "fig, ax = plt.subplots(1,3, figsize= (20,6))\n",
    "\n",
    "create_countplot(ax[0],'purpose', acc_df[\"purpose\"],\"Purpose of loan\" ,\"y\")\n",
    "create_countplot(ax[1],'initial_list_status', acc_df[\"initial_list_status\"],\"Initial listing status of the loan\" )\n",
    "create_countplot(ax[2],'application_type', acc_df[\"application_type\"],\"Application type\" )\n",
    "\n",
    "\n",
    "\n",
    "plt.tight_layout()\n",
    "plt.show()"
   ]
  },
  {
   "cell_type": "markdown",
   "metadata": {},
   "source": [
    "# Preprocessing"
   ]
  },
  {
   "cell_type": "code",
   "execution_count": 122,
   "metadata": {
    "scrolled": true
   },
   "outputs": [
    {
     "name": "stdout",
     "output_type": "stream",
     "text": [
      "<class 'pandas.core.frame.DataFrame'>\n",
      "Int64Index: 1345310 entries, 0 to 2260697\n",
      "Data columns (total 93 columns):\n",
      " #   Column                      Non-Null Count    Dtype  \n",
      "---  ------                      --------------    -----  \n",
      " 0   id                          1345310 non-null  object \n",
      " 1   loan_amnt                   1345310 non-null  float64\n",
      " 2   funded_amnt                 1345310 non-null  float64\n",
      " 3   funded_amnt_inv             1345310 non-null  float64\n",
      " 4   term                        1345310 non-null  object \n",
      " 5   int_rate                    1345310 non-null  float64\n",
      " 6   installment                 1345310 non-null  float64\n",
      " 7   grade                       1345310 non-null  object \n",
      " 8   sub_grade                   1345310 non-null  object \n",
      " 9   emp_title                   1259525 non-null  object \n",
      " 10  emp_length                  1266799 non-null  object \n",
      " 11  home_ownership              1345310 non-null  object \n",
      " 12  annual_inc                  1345310 non-null  float64\n",
      " 13  verification_status         1345310 non-null  object \n",
      " 14  issue_d                     1345310 non-null  object \n",
      " 15  loan_status                 1345310 non-null  float64\n",
      " 16  pymnt_plan                  1345310 non-null  object \n",
      " 17  url                         1345310 non-null  object \n",
      " 18  purpose                     1345310 non-null  object \n",
      " 19  title                       1328651 non-null  object \n",
      " 20  zip_code                    1345309 non-null  object \n",
      " 21  addr_state                  1345310 non-null  object \n",
      " 22  dti                         1344936 non-null  float64\n",
      " 23  delinq_2yrs                 1345310 non-null  float64\n",
      " 24  earliest_cr_line            1345310 non-null  object \n",
      " 25  fico_range_low              1345310 non-null  float64\n",
      " 26  fico_range_high             1345310 non-null  float64\n",
      " 27  inq_last_6mths              1345309 non-null  float64\n",
      " 28  open_acc                    1345310 non-null  float64\n",
      " 29  pub_rec                     1345310 non-null  float64\n",
      " 30  revol_bal                   1345310 non-null  float64\n",
      " 31  revol_util                  1344453 non-null  float64\n",
      " 32  total_acc                   1345310 non-null  float64\n",
      " 33  initial_list_status         1345310 non-null  object \n",
      " 34  out_prncp                   1345310 non-null  float64\n",
      " 35  out_prncp_inv               1345310 non-null  float64\n",
      " 36  total_pymnt                 1345310 non-null  float64\n",
      " 37  total_pymnt_inv             1345310 non-null  float64\n",
      " 38  total_rec_prncp             1345310 non-null  float64\n",
      " 39  total_rec_int               1345310 non-null  float64\n",
      " 40  total_rec_late_fee          1345310 non-null  float64\n",
      " 41  recoveries                  1345310 non-null  float64\n",
      " 42  collection_recovery_fee     1345310 non-null  float64\n",
      " 43  last_pymnt_d                1342997 non-null  object \n",
      " 44  last_pymnt_amnt             1345310 non-null  float64\n",
      " 45  last_credit_pull_d          1345255 non-null  object \n",
      " 46  last_fico_range_high        1345310 non-null  float64\n",
      " 47  last_fico_range_low         1345310 non-null  float64\n",
      " 48  collections_12_mths_ex_med  1345254 non-null  float64\n",
      " 49  policy_code                 1345310 non-null  float64\n",
      " 50  application_type            1345310 non-null  object \n",
      " 51  acc_now_delinq              1345310 non-null  float64\n",
      " 52  tot_coll_amt                1277783 non-null  float64\n",
      " 53  tot_cur_bal                 1277783 non-null  float64\n",
      " 54  total_rev_hi_lim            1277783 non-null  float64\n",
      " 55  acc_open_past_24mths        1298029 non-null  float64\n",
      " 56  avg_cur_bal                 1277761 non-null  float64\n",
      " 57  bc_open_to_buy              1284167 non-null  float64\n",
      " 58  bc_util                     1283398 non-null  float64\n",
      " 59  chargeoff_within_12_mths    1345254 non-null  float64\n",
      " 60  delinq_amnt                 1345310 non-null  float64\n",
      " 61  mo_sin_old_il_acct          1239735 non-null  float64\n",
      " 62  mo_sin_old_rev_tl_op        1277782 non-null  float64\n",
      " 63  mo_sin_rcnt_rev_tl_op       1277782 non-null  float64\n",
      " 64  mo_sin_rcnt_tl              1277783 non-null  float64\n",
      " 65  mort_acc                    1298029 non-null  float64\n",
      " 66  mths_since_recent_bc        1285089 non-null  float64\n",
      " 67  mths_since_recent_inq       1171239 non-null  float64\n",
      " 68  num_accts_ever_120_pd       1277783 non-null  float64\n",
      " 69  num_actv_bc_tl              1277783 non-null  float64\n",
      " 70  num_actv_rev_tl             1277783 non-null  float64\n",
      " 71  num_bc_sats                 1289469 non-null  float64\n",
      " 72  num_bc_tl                   1277783 non-null  float64\n",
      " 73  num_il_tl                   1277783 non-null  float64\n",
      " 74  num_op_rev_tl               1277783 non-null  float64\n",
      " 75  num_rev_accts               1277782 non-null  float64\n",
      " 76  num_rev_tl_bal_gt_0         1277783 non-null  float64\n",
      " 77  num_sats                    1289469 non-null  float64\n",
      " 78  num_tl_120dpd_2m            1227909 non-null  float64\n",
      " 79  num_tl_30dpd                1277783 non-null  float64\n",
      " 80  num_tl_90g_dpd_24m          1277783 non-null  float64\n",
      " 81  num_tl_op_past_12m          1277783 non-null  float64\n",
      " 82  pct_tl_nvr_dlq              1277629 non-null  float64\n",
      " 83  percent_bc_gt_75            1283755 non-null  float64\n",
      " 84  pub_rec_bankruptcies        1344613 non-null  float64\n",
      " 85  tax_liens                   1345271 non-null  float64\n",
      " 86  tot_hi_cred_lim             1277783 non-null  float64\n",
      " 87  total_bal_ex_mort           1298029 non-null  float64\n",
      " 88  total_bc_limit              1298029 non-null  float64\n",
      " 89  total_il_high_credit_limit  1277783 non-null  float64\n",
      " 90  hardship_flag               1345310 non-null  object \n",
      " 91  disbursement_method         1345310 non-null  object \n",
      " 92  debt_settlement_flag        1345310 non-null  object \n",
      "dtypes: float64(70), object(23)\n",
      "memory usage: 964.8+ MB\n"
     ]
    }
   ],
   "source": [
    "acc_df.info()"
   ]
  },
  {
   "cell_type": "code",
   "execution_count": 123,
   "metadata": {},
   "outputs": [],
   "source": [
    "# let's select some features for our analysis as there are so many features\n",
    "\n",
    "selected_features=['loam_amnt','term','int_rate','grade','dti','loan_status','emp_length','annual_inc','application_type','home_ownership']\n",
    "\n"
   ]
  },
  {
   "cell_type": "code",
   "execution_count": 125,
   "metadata": {},
   "outputs": [],
   "source": [
    "#drop the other features, just keep the selected features\n",
    "drop = [col for col in acc_df.columns if col not in selected_features]\n",
    "acc_df=acc_df.drop(drop,axis=1)"
   ]
  },
  {
   "cell_type": "code",
   "execution_count": 126,
   "metadata": {},
   "outputs": [
    {
     "data": {
      "text/plain": [
       "(1345310, 9)"
      ]
     },
     "execution_count": 126,
     "metadata": {},
     "output_type": "execute_result"
    }
   ],
   "source": [
    "acc_df.shape"
   ]
  },
  {
   "cell_type": "code",
   "execution_count": 127,
   "metadata": {},
   "outputs": [
    {
     "data": {
      "text/plain": [
       "term                    0\n",
       "int_rate                0\n",
       "grade                   0\n",
       "emp_length          78511\n",
       "home_ownership          0\n",
       "annual_inc              0\n",
       "loan_status             0\n",
       "dti                   374\n",
       "application_type        0\n",
       "dtype: int64"
      ]
     },
     "execution_count": 127,
     "metadata": {},
     "output_type": "execute_result"
    }
   ],
   "source": [
    "acc_df.isnull().sum()"
   ]
  },
  {
   "cell_type": "code",
   "execution_count": null,
   "metadata": {},
   "outputs": [],
   "source": [
    "# Exploring the features"
   ]
  },
  {
   "cell_type": "code",
   "execution_count": 129,
   "metadata": {},
   "outputs": [
    {
     "data": {
      "text/plain": [
       "count       1266799\n",
       "unique           11\n",
       "top       10+ years\n",
       "freq         442199\n",
       "Name: emp_length, dtype: object"
      ]
     },
     "execution_count": 129,
     "metadata": {},
     "output_type": "execute_result"
    }
   ],
   "source": [
    "acc_df['emp_length'].describe()"
   ]
  },
  {
   "cell_type": "code",
   "execution_count": 130,
   "metadata": {},
   "outputs": [],
   "source": [
    "emp_length_to_int={'< 1 year':0.5,\n",
    "                      '1 year':1,\n",
    "                     '2 years':2,\n",
    "                     '3 years':3,\n",
    "                     '4 years':4,\n",
    "                     '5 years':5,\n",
    "                     '6 years':6,\n",
    "                     '7 years':7,\n",
    "                     '8 years':8,\n",
    "                     '9 years':9,\n",
    "                     '10+ years':10}\n",
    "acc_df['emp_length'] = acc_df['emp_length'].map(emp_length_to_int)"
   ]
  },
  {
   "cell_type": "code",
   "execution_count": 131,
   "metadata": {},
   "outputs": [
    {
     "data": {
      "text/plain": [
       "10.0"
      ]
     },
     "execution_count": 131,
     "metadata": {},
     "output_type": "execute_result"
    }
   ],
   "source": [
    "mode_emp=acc_df['emp_length'].mode()[0]\n",
    "mode_emp"
   ]
  },
  {
   "cell_type": "code",
   "execution_count": 133,
   "metadata": {},
   "outputs": [
    {
     "data": {
      "text/plain": [
       "term                  0\n",
       "int_rate              0\n",
       "grade                 0\n",
       "emp_length            0\n",
       "home_ownership        0\n",
       "annual_inc            0\n",
       "loan_status           0\n",
       "dti                 374\n",
       "application_type      0\n",
       "dtype: int64"
      ]
     },
     "execution_count": 133,
     "metadata": {},
     "output_type": "execute_result"
    }
   ],
   "source": [
    "acc_df['emp_length'].fillna(mode_emp,inplace= True)\n",
    "acc_df.isnull().sum()"
   ]
  },
  {
   "cell_type": "code",
   "execution_count": 134,
   "metadata": {},
   "outputs": [
    {
     "data": {
      "text/plain": [
       "count    1.344936e+06\n",
       "mean     1.828267e+01\n",
       "std      1.116045e+01\n",
       "min     -1.000000e+00\n",
       "25%      1.179000e+01\n",
       "50%      1.761000e+01\n",
       "75%      2.406000e+01\n",
       "max      9.990000e+02\n",
       "Name: dti, dtype: float64"
      ]
     },
     "execution_count": 134,
     "metadata": {},
     "output_type": "execute_result"
    }
   ],
   "source": [
    "acc_df['dti'].describe()"
   ]
  },
  {
   "cell_type": "code",
   "execution_count": 135,
   "metadata": {},
   "outputs": [
    {
     "data": {
      "text/plain": [
       "18.282666915005624"
      ]
     },
     "execution_count": 135,
     "metadata": {},
     "output_type": "execute_result"
    }
   ],
   "source": [
    "mean_dti=acc_df['dti'].mean()\n",
    "mean_dti\n"
   ]
  },
  {
   "cell_type": "code",
   "execution_count": 136,
   "metadata": {},
   "outputs": [],
   "source": [
    "\n",
    "acc_df['dti'].fillna(mean_dti,inplace= True)"
   ]
  },
  {
   "cell_type": "code",
   "execution_count": 137,
   "metadata": {},
   "outputs": [
    {
     "data": {
      "text/plain": [
       "term                0\n",
       "int_rate            0\n",
       "grade               0\n",
       "emp_length          0\n",
       "home_ownership      0\n",
       "annual_inc          0\n",
       "loan_status         0\n",
       "dti                 0\n",
       "application_type    0\n",
       "dtype: int64"
      ]
     },
     "execution_count": 137,
     "metadata": {},
     "output_type": "execute_result"
    }
   ],
   "source": [
    "acc_df.isnull().sum()"
   ]
  },
  {
   "cell_type": "code",
   "execution_count": 138,
   "metadata": {},
   "outputs": [
    {
     "name": "stdout",
     "output_type": "stream",
     "text": [
      "<class 'pandas.core.frame.DataFrame'>\n",
      "Int64Index: 1345310 entries, 0 to 2260697\n",
      "Data columns (total 9 columns):\n",
      " #   Column            Non-Null Count    Dtype  \n",
      "---  ------            --------------    -----  \n",
      " 0   term              1345310 non-null  object \n",
      " 1   int_rate          1345310 non-null  float64\n",
      " 2   grade             1345310 non-null  object \n",
      " 3   emp_length        1345310 non-null  float64\n",
      " 4   home_ownership    1345310 non-null  object \n",
      " 5   annual_inc        1345310 non-null  float64\n",
      " 6   loan_status       1345310 non-null  float64\n",
      " 7   dti               1345310 non-null  float64\n",
      " 8   application_type  1345310 non-null  object \n",
      "dtypes: float64(5), object(4)\n",
      "memory usage: 102.6+ MB\n"
     ]
    }
   ],
   "source": [
    "acc_df.info()"
   ]
  },
  {
   "cell_type": "code",
   "execution_count": 139,
   "metadata": {},
   "outputs": [
    {
     "name": "stdout",
     "output_type": "stream",
     "text": [
      "(1345310, 4)\n"
     ]
    }
   ],
   "source": [
    "# columns that have categorical values\n",
    "categorical_columns = acc_df.select_dtypes(include=['object']).copy()\n",
    "print(categorical_columns.shape)"
   ]
  },
  {
   "cell_type": "code",
   "execution_count": 140,
   "metadata": {},
   "outputs": [
    {
     "name": "stdout",
     "output_type": "stream",
     "text": [
      "(1345310, 5)\n"
     ]
    }
   ],
   "source": [
    "# columns that have numeric values\n",
    "numeric_columns = acc_df.select_dtypes(exclude=['object']).copy()\n",
    "print(numeric_columns.shape)"
   ]
  },
  {
   "cell_type": "code",
   "execution_count": 141,
   "metadata": {},
   "outputs": [
    {
     "data": {
      "text/plain": [
       "Index(['term', 'grade', 'home_ownership', 'application_type'], dtype='object')"
      ]
     },
     "execution_count": 141,
     "metadata": {},
     "output_type": "execute_result"
    }
   ],
   "source": [
    "categorical_columns.columns"
   ]
  },
  {
   "cell_type": "code",
   "execution_count": 142,
   "metadata": {},
   "outputs": [
    {
     "data": {
      "text/plain": [
       "Index(['int_rate', 'emp_length', 'annual_inc', 'loan_status', 'dti'], dtype='object')"
      ]
     },
     "execution_count": 142,
     "metadata": {},
     "output_type": "execute_result"
    }
   ],
   "source": [
    "numeric_columns.columns"
   ]
  },
  {
   "cell_type": "code",
   "execution_count": 144,
   "metadata": {},
   "outputs": [],
   "source": [
    "acc_df=acc_df[acc_df['dti'] < 100]\n",
    "\n",
    "\n"
   ]
  },
  {
   "cell_type": "code",
   "execution_count": 145,
   "metadata": {},
   "outputs": [
    {
     "data": {
      "text/plain": [
       "(1344775, 9)"
      ]
     },
     "execution_count": 145,
     "metadata": {},
     "output_type": "execute_result"
    }
   ],
   "source": [
    "acc_df.shape"
   ]
  },
  {
   "cell_type": "code",
   "execution_count": 146,
   "metadata": {},
   "outputs": [],
   "source": [
    "acc_df=acc_df[acc_df['annual_inc'] < 10000000]\n"
   ]
  },
  {
   "cell_type": "code",
   "execution_count": 147,
   "metadata": {},
   "outputs": [
    {
     "data": {
      "text/plain": [
       "(1344774, 9)"
      ]
     },
     "execution_count": 147,
     "metadata": {},
     "output_type": "execute_result"
    }
   ],
   "source": [
    "acc_df.shape"
   ]
  },
  {
   "cell_type": "code",
   "execution_count": 148,
   "metadata": {},
   "outputs": [],
   "source": [
    "from sklearn.model_selection import train_test_split\n",
    "from sklearn.metrics import accuracy_score  #for accuracy_score\n",
    "from sklearn.model_selection import KFold #for K-fold cross validation\n",
    "from sklearn.model_selection import cross_val_score #score evaluation\n",
    "from sklearn.model_selection import cross_val_predict #prediction\n",
    "from sklearn.metrics import confusion_matrix #for confusion matrix\n"
   ]
  },
  {
   "cell_type": "code",
   "execution_count": 149,
   "metadata": {},
   "outputs": [],
   "source": [
    "from sklearn import preprocessing\n",
    "le = preprocessing.LabelEncoder()"
   ]
  },
  {
   "cell_type": "code",
   "execution_count": 150,
   "metadata": {},
   "outputs": [
    {
     "data": {
      "text/plain": [
       "0    1020429\n",
       "1     324345\n",
       "Name: term, dtype: int64"
      ]
     },
     "execution_count": 150,
     "metadata": {},
     "output_type": "execute_result"
    }
   ],
   "source": [
    "acc_df['term'] = le.fit_transform(acc_df['term'])\n",
    "acc_df['term'].value_counts()"
   ]
  },
  {
   "cell_type": "code",
   "execution_count": 151,
   "metadata": {},
   "outputs": [
    {
     "data": {
      "text/plain": [
       "1    392616\n",
       "2    381529\n",
       "0    235041\n",
       "3    200836\n",
       "4     93592\n",
       "5     32042\n",
       "6      9118\n",
       "Name: grade, dtype: int64"
      ]
     },
     "execution_count": 151,
     "metadata": {},
     "output_type": "execute_result"
    }
   ],
   "source": [
    "acc_df['grade'] = le.fit_transform(acc_df['grade'])\n",
    "acc_df['grade'].value_counts()"
   ]
  },
  {
   "cell_type": "code",
   "execution_count": 152,
   "metadata": {},
   "outputs": [
    {
     "data": {
      "text/plain": [
       "1    665212\n",
       "5    534296\n",
       "4    144789\n",
       "0       286\n",
       "3       144\n",
       "2        47\n",
       "Name: home_ownership, dtype: int64"
      ]
     },
     "execution_count": 152,
     "metadata": {},
     "output_type": "execute_result"
    }
   ],
   "source": [
    "acc_df['home_ownership'] = le.fit_transform(acc_df['home_ownership'])\n",
    "acc_df['home_ownership'].value_counts()"
   ]
  },
  {
   "cell_type": "code",
   "execution_count": 153,
   "metadata": {},
   "outputs": [
    {
     "data": {
      "text/plain": [
       "1    1319509\n",
       "0      25265\n",
       "Name: application_type, dtype: int64"
      ]
     },
     "execution_count": 153,
     "metadata": {},
     "output_type": "execute_result"
    }
   ],
   "source": [
    "app_to_int={'Individual':1,'Joint App':0}\n",
    "acc_df['application_type'] = acc_df['application_type'].map(app_to_int)\n",
    "acc_df['application_type'].value_counts()"
   ]
  },
  {
   "cell_type": "code",
   "execution_count": 154,
   "metadata": {
    "scrolled": true
   },
   "outputs": [
    {
     "name": "stdout",
     "output_type": "stream",
     "text": [
      "<class 'pandas.core.frame.DataFrame'>\n",
      "Int64Index: 1344774 entries, 0 to 2260697\n",
      "Data columns (total 9 columns):\n",
      " #   Column            Non-Null Count    Dtype  \n",
      "---  ------            --------------    -----  \n",
      " 0   term              1344774 non-null  int32  \n",
      " 1   int_rate          1344774 non-null  float64\n",
      " 2   grade             1344774 non-null  int32  \n",
      " 3   emp_length        1344774 non-null  float64\n",
      " 4   home_ownership    1344774 non-null  int32  \n",
      " 5   annual_inc        1344774 non-null  float64\n",
      " 6   loan_status       1344774 non-null  float64\n",
      " 7   dti               1344774 non-null  float64\n",
      " 8   application_type  1344774 non-null  int64  \n",
      "dtypes: float64(5), int32(3), int64(1)\n",
      "memory usage: 87.2 MB\n"
     ]
    }
   ],
   "source": [
    "acc_df.info()"
   ]
  },
  {
   "cell_type": "code",
   "execution_count": 58,
   "metadata": {},
   "outputs": [],
   "source": [
    "#acc_df.isnull().sum()"
   ]
  },
  {
   "cell_type": "raw",
   "metadata": {},
   "source": [
    "acc_df.isnull().sum().sum()  #checking the total number of null values in the dataframe"
   ]
  },
  {
   "cell_type": "raw",
   "metadata": {},
   "source": [
    "acc_df.mean()"
   ]
  },
  {
   "cell_type": "code",
   "execution_count": 157,
   "metadata": {},
   "outputs": [
    {
     "data": {
      "text/plain": [
       "1.0    1076358\n",
       "0.0     268416\n",
       "Name: loan_status, dtype: int64"
      ]
     },
     "execution_count": 157,
     "metadata": {},
     "output_type": "execute_result"
    }
   ],
   "source": [
    "acc_df['loan_status'].value_counts()"
   ]
  },
  {
   "cell_type": "code",
   "execution_count": 158,
   "metadata": {},
   "outputs": [],
   "source": [
    "#acc_df.isnull().sum()"
   ]
  },
  {
   "cell_type": "markdown",
   "metadata": {},
   "source": [
    "# Split the data into Train and Test"
   ]
  },
  {
   "cell_type": "code",
   "execution_count": 159,
   "metadata": {},
   "outputs": [],
   "source": [
    "X = acc_df.drop('loan_status', axis=1)\n",
    "y = acc_df['loan_status']"
   ]
  },
  {
   "cell_type": "code",
   "execution_count": 160,
   "metadata": {},
   "outputs": [],
   "source": [
    "from sklearn.model_selection import train_test_split\n",
    "X_train, X_test, y_train, y_test = train_test_split(X, y, test_size=0.33,random_state=42) # keeping 33% for test "
   ]
  },
  {
   "cell_type": "markdown",
   "metadata": {},
   "source": [
    "# Scaling the data"
   ]
  },
  {
   "cell_type": "code",
   "execution_count": 161,
   "metadata": {},
   "outputs": [],
   "source": [
    "from sklearn.preprocessing import MinMaxScaler\n",
    "scaler = MinMaxScaler()\n",
    "X_train = scaler.fit_transform(X_train)\n",
    "X_test = scaler.transform(X_test)"
   ]
  },
  {
   "cell_type": "code",
   "execution_count": 162,
   "metadata": {},
   "outputs": [
    {
     "data": {
      "text/plain": [
       "((900998, 8), (443776, 8), (900998,), (443776,))"
      ]
     },
     "execution_count": 162,
     "metadata": {},
     "output_type": "execute_result"
    }
   ],
   "source": [
    "X_train.shape,X_test.shape,y_train.shape,y_test.shape"
   ]
  },
  {
   "cell_type": "markdown",
   "metadata": {},
   "source": [
    "# Random Forest"
   ]
  },
  {
   "cell_type": "code",
   "execution_count": 164,
   "metadata": {
    "scrolled": true
   },
   "outputs": [],
   "source": [
    "from sklearn.ensemble import RandomForestClassifier\n",
    "from sklearn.metrics import accuracy_score,plot_confusion_matrix,classification_report\n",
    "rf = RandomForestClassifier(n_estimators=100)\n",
    "#print(X_train)\n",
    "#print(y_train)\n",
    "rf.fit(X_train,y_train)\n",
    "RandomForestClassifier()\n",
    "preds = rf.predict(X_test)\n"
   ]
  },
  {
   "cell_type": "code",
   "execution_count": 165,
   "metadata": {},
   "outputs": [
    {
     "name": "stdout",
     "output_type": "stream",
     "text": [
      "Accuracy of Regularized Random Forest is: 78.38\n"
     ]
    }
   ],
   "source": [
    "accuracy_rf= accuracy_score(preds,y_test)*100\n",
    "print('Accuracy of Regularized Random Forest is: {:.2f}'.format(accuracy_rf))"
   ]
  },
  {
   "cell_type": "code",
   "execution_count": 166,
   "metadata": {},
   "outputs": [
    {
     "name": "stdout",
     "output_type": "stream",
     "text": [
      "              precision    recall  f1-score   support\n",
      "\n",
      "         0.0       0.39      0.14      0.21     88404\n",
      "         1.0       0.82      0.94      0.87    355372\n",
      "\n",
      "    accuracy                           0.78    443776\n",
      "   macro avg       0.60      0.54      0.54    443776\n",
      "weighted avg       0.73      0.78      0.74    443776\n",
      "\n"
     ]
    }
   ],
   "source": [
    "print(classification_report(y_test,preds))"
   ]
  },
  {
   "cell_type": "code",
   "execution_count": 167,
   "metadata": {},
   "outputs": [
    {
     "name": "stderr",
     "output_type": "stream",
     "text": [
      "C:\\Users\\yashi\\anaconda3\\lib\\site-packages\\sklearn\\utils\\deprecation.py:87: FutureWarning: Function plot_confusion_matrix is deprecated; Function `plot_confusion_matrix` is deprecated in 1.0 and will be removed in 1.2. Use one of the class methods: ConfusionMatrixDisplay.from_predictions or ConfusionMatrixDisplay.from_estimator.\n",
      "  warnings.warn(msg, category=FutureWarning)\n"
     ]
    },
    {
     "data": {
      "text/plain": [
       "<sklearn.metrics._plot.confusion_matrix.ConfusionMatrixDisplay at 0x21608b89310>"
      ]
     },
     "execution_count": 167,
     "metadata": {},
     "output_type": "execute_result"
    },
    {
     "data": {
      "image/png": "[encoded data removed]",
      "text/plain": [
       "<Figure size 432x288 with 2 Axes>"
      ]
     },
     "metadata": {
      "needs_background": "light"
     },
     "output_type": "display_data"
    }
   ],
   "source": [
    "plot_confusion_matrix(rf,X_test,y_test)"
   ]
  },
  {
   "cell_type": "markdown",
   "metadata": {},
   "source": [
    "# Logistic Regression"
   ]
  },
  {
   "cell_type": "code",
   "execution_count": 168,
   "metadata": {},
   "outputs": [
    {
     "data": {
      "text/plain": [
       "LogisticRegression(C=0.01, solver='newton-cg')"
      ]
     },
     "execution_count": 168,
     "metadata": {},
     "output_type": "execute_result"
    }
   ],
   "source": [
    "from sklearn.linear_model import LogisticRegression\n",
    "lr=LogisticRegression(penalty='l2',C=0.01,solver='newton-cg')\n",
    "lr.fit(X_train,y_train)"
   ]
  },
  {
   "cell_type": "code",
   "execution_count": 169,
   "metadata": {},
   "outputs": [],
   "source": [
    "pred_lr = lr.predict(X_test)"
   ]
  },
  {
   "cell_type": "code",
   "execution_count": 170,
   "metadata": {},
   "outputs": [
    {
     "name": "stdout",
     "output_type": "stream",
     "text": [
      "Accuracy of Regularized Logistic Regression is: 80.14\n"
     ]
    }
   ],
   "source": [
    "accuracy_lr= accuracy_score(pred_lr,y_test)*100\n",
    "print('Accuracy of Regularized Logistic Regression is: {:.2f}'.format(accuracy_lr))"
   ]
  },
  {
   "cell_type": "code",
   "execution_count": 171,
   "metadata": {},
   "outputs": [
    {
     "name": "stdout",
     "output_type": "stream",
     "text": [
      "              precision    recall  f1-score   support\n",
      "\n",
      "         0.0       0.51      0.07      0.13     88404\n",
      "         1.0       0.81      0.98      0.89    355372\n",
      "\n",
      "    accuracy                           0.80    443776\n",
      "   macro avg       0.66      0.53      0.51    443776\n",
      "weighted avg       0.75      0.80      0.74    443776\n",
      "\n"
     ]
    }
   ],
   "source": [
    "print(classification_report(y_test,pred_lr))"
   ]
  },
  {
   "cell_type": "code",
   "execution_count": 172,
   "metadata": {},
   "outputs": [
    {
     "name": "stderr",
     "output_type": "stream",
     "text": [
      "C:\\Users\\yashi\\anaconda3\\lib\\site-packages\\sklearn\\utils\\deprecation.py:87: FutureWarning: Function plot_confusion_matrix is deprecated; Function `plot_confusion_matrix` is deprecated in 1.0 and will be removed in 1.2. Use one of the class methods: ConfusionMatrixDisplay.from_predictions or ConfusionMatrixDisplay.from_estimator.\n",
      "  warnings.warn(msg, category=FutureWarning)\n"
     ]
    },
    {
     "data": {
      "text/plain": [
       "<sklearn.metrics._plot.confusion_matrix.ConfusionMatrixDisplay at 0x2158e7dfac0>"
      ]
     },
     "execution_count": 172,
     "metadata": {},
     "output_type": "execute_result"
    },
    {
     "data": {
      "image/png": "[encoded data removed]",
      "text/plain": [
       "<Figure size 432x288 with 2 Axes>"
      ]
     },
     "metadata": {
      "needs_background": "light"
     },
     "output_type": "display_data"
    }
   ],
   "source": [
    "plot_confusion_matrix(lr,X_test,y_test)"
   ]
  },
  {
   "cell_type": "markdown",
   "metadata": {},
   "source": [
    "# XGBoost Classifier"
   ]
  },
  {
   "cell_type": "code",
   "execution_count": 173,
   "metadata": {},
   "outputs": [
    {
     "name": "stdout",
     "output_type": "stream",
     "text": [
      "Requirement already satisfied: xgboost in c:\\users\\yashi\\anaconda3\\lib\\site-packages (1.6.1)\n",
      "Requirement already satisfied: numpy in c:\\users\\yashi\\anaconda3\\lib\\site-packages (from xgboost) (1.22.2)\n",
      "Requirement already satisfied: scipy in c:\\users\\yashi\\anaconda3\\lib\\site-packages (from xgboost) (1.8.0)\n",
      "Note: you may need to restart the kernel to use updated packages.\n"
     ]
    },
    {
     "name": "stderr",
     "output_type": "stream",
     "text": [
      "WARNING: You are using pip version 22.0.4; however, version 22.1.2 is available.\n",
      "You should consider upgrading via the 'C:\\Users\\yashi\\anaconda3\\python.exe -m pip install --upgrade pip' command.\n"
     ]
    }
   ],
   "source": [
    "pip install xgboost"
   ]
  },
  {
   "cell_type": "code",
   "execution_count": 174,
   "metadata": {},
   "outputs": [],
   "source": [
    "from xgboost import XGBClassifier"
   ]
  },
  {
   "cell_type": "code",
   "execution_count": 175,
   "metadata": {},
   "outputs": [
    {
     "data": {
      "text/plain": [
       "XGBClassifier(base_score=0.5, booster='gbtree', callbacks=None,\n",
       "              colsample_bylevel=1, colsample_bynode=1, colsample_bytree=1,\n",
       "              early_stopping_rounds=None, enable_categorical=False,\n",
       "              eval_metric=None, gamma=0, gpu_id=-1, grow_policy='depthwise',\n",
       "              importance_type=None, interaction_constraints='',\n",
       "              learning_rate=0.300000012, max_bin=256, max_cat_to_onehot=4,\n",
       "              max_delta_step=0, max_depth=6, max_leaves=0, min_child_weight=1,\n",
       "              missing=nan, monotone_constraints='()', n_estimators=100,\n",
       "              n_jobs=0, num_parallel_tree=1, predictor='auto', random_state=0,\n",
       "              reg_alpha=0, reg_lambda=1, ...)"
      ]
     },
     "execution_count": 175,
     "metadata": {},
     "output_type": "execute_result"
    }
   ],
   "source": [
    "# fit model to training data\n",
    "xgb = XGBClassifier()\n",
    "xgb.fit(X_train, y_train)"
   ]
  },
  {
   "cell_type": "code",
   "execution_count": 176,
   "metadata": {},
   "outputs": [],
   "source": [
    "preds_xgb = xgb.predict(X_test) "
   ]
  },
  {
   "cell_type": "code",
   "execution_count": 177,
   "metadata": {},
   "outputs": [
    {
     "name": "stdout",
     "output_type": "stream",
     "text": [
      "Accuracy of Regularized XGBoost is: 80.29\n"
     ]
    }
   ],
   "source": [
    "accuracy_xgb= accuracy_score(preds_xgb,y_test)*100\n",
    "print('Accuracy of Regularized XGBoost is: {:.2f}'.format(accuracy_xgb))"
   ]
  },
  {
   "cell_type": "code",
   "execution_count": 178,
   "metadata": {},
   "outputs": [
    {
     "name": "stdout",
     "output_type": "stream",
     "text": [
      "              precision    recall  f1-score   support\n",
      "\n",
      "         0.0       0.54      0.07      0.12     88404\n",
      "         1.0       0.81      0.99      0.89    355372\n",
      "\n",
      "    accuracy                           0.80    443776\n",
      "   macro avg       0.68      0.53      0.50    443776\n",
      "weighted avg       0.76      0.80      0.74    443776\n",
      "\n"
     ]
    }
   ],
   "source": [
    "print(classification_report(y_test,preds_xgb))"
   ]
  },
  {
   "cell_type": "code",
   "execution_count": 179,
   "metadata": {},
   "outputs": [
    {
     "name": "stderr",
     "output_type": "stream",
     "text": [
      "C:\\Users\\yashi\\anaconda3\\lib\\site-packages\\sklearn\\utils\\deprecation.py:87: FutureWarning: Function plot_confusion_matrix is deprecated; Function `plot_confusion_matrix` is deprecated in 1.0 and will be removed in 1.2. Use one of the class methods: ConfusionMatrixDisplay.from_predictions or ConfusionMatrixDisplay.from_estimator.\n",
      "  warnings.warn(msg, category=FutureWarning)\n"
     ]
    },
    {
     "data": {
      "text/plain": [
       "<sklearn.metrics._plot.confusion_matrix.ConfusionMatrixDisplay at 0x216036f03d0>"
      ]
     },
     "execution_count": 179,
     "metadata": {},
     "output_type": "execute_result"
    },
    {
     "data": {
      "image/png": "[encoded data removed]",
      "text/plain": [
       "<Figure size 432x288 with 2 Axes>"
      ]
     },
     "metadata": {
      "needs_background": "light"
     },
     "output_type": "display_data"
    }
   ],
   "source": [
    "plot_confusion_matrix(xgb,X_test,y_test)"
   ]
  },
  {
   "cell_type": "markdown",
   "metadata": {},
   "source": [
    "# Artificial Neural Networks (ANNs)"
   ]
  },
  {
   "cell_type": "code",
   "execution_count": 180,
   "metadata": {},
   "outputs": [],
   "source": [
    "import tensorflow as tf\n",
    "from tensorflow.keras.models import Sequential\n",
    "from tensorflow.keras.layers import Dense, Activation,Dropout\n",
    "from tensorflow.keras.constraints import max_norm"
   ]
  },
  {
   "cell_type": "code",
   "execution_count": 181,
   "metadata": {},
   "outputs": [],
   "source": [
    "model = Sequential()\n",
    "\n",
    "# input layer\n",
    "model.add(Dense(119,  activation='relu'))\n",
    "model.add(Dropout(0.1))\n",
    "\n",
    "# hidden layer\n",
    "model.add(Dense(78,  activation='relu'))\n",
    "model.add(Dropout(0.1))\n",
    "\n",
    "# hidden layer\n",
    "model.add(Dense(39, activation='relu'))\n",
    "model.add(Dropout(0.1))\n",
    "\n",
    "# hidden layer\n",
    "model.add(Dense(19, activation='relu'))\n",
    "model.add(Dropout(0.1))\n",
    "\n",
    "# output layer\n",
    "model.add(Dense(units=1,activation='sigmoid'))\n",
    "\n",
    "# Compile model\n",
    "model.compile(loss='binary_crossentropy', optimizer='adam')\n",
    "\n"
   ]
  },
  {
   "cell_type": "code",
   "execution_count": 182,
   "metadata": {},
   "outputs": [
    {
     "name": "stdout",
     "output_type": "stream",
     "text": [
      "Epoch 1/10\n",
      "3520/3520 [==============================] - 12s 3ms/step - loss: 0.4637 - val_loss: 0.4578\n",
      "Epoch 2/10\n",
      "3520/3520 [==============================] - 10s 3ms/step - loss: 0.4603 - val_loss: 0.4574\n",
      "Epoch 3/10\n",
      "3520/3520 [==============================] - 11s 3ms/step - loss: 0.4598 - val_loss: 0.4575\n",
      "Epoch 4/10\n",
      "3520/3520 [==============================] - 11s 3ms/step - loss: 0.4596 - val_loss: 0.4570\n",
      "Epoch 5/10\n",
      "3520/3520 [==============================] - 11s 3ms/step - loss: 0.4594 - val_loss: 0.4572\n",
      "Epoch 6/10\n",
      "3520/3520 [==============================] - 12s 3ms/step - loss: 0.4592 - val_loss: 0.4569\n",
      "Epoch 7/10\n",
      "3520/3520 [==============================] - 11s 3ms/step - loss: 0.4592 - val_loss: 0.4580\n",
      "Epoch 8/10\n",
      "3520/3520 [==============================] - 12s 3ms/step - loss: 0.4590 - val_loss: 0.4578\n",
      "Epoch 9/10\n",
      "3520/3520 [==============================] - 11s 3ms/step - loss: 0.4588 - val_loss: 0.4568\n",
      "Epoch 10/10\n",
      "3520/3520 [==============================] - 12s 3ms/step - loss: 0.4589 - val_loss: 0.4567\n"
     ]
    },
    {
     "data": {
      "text/plain": [
       "<keras.callbacks.History at 0x2158fe34ca0>"
      ]
     },
     "execution_count": 182,
     "metadata": {},
     "output_type": "execute_result"
    }
   ],
   "source": [
    "model.fit(x=X_train, \n",
    "          y=y_train, \n",
    "          epochs=10,\n",
    "          batch_size=256,\n",
    "          validation_data=(X_test, y_test), \n",
    "          )"
   ]
  },
  {
   "cell_type": "code",
   "execution_count": 183,
   "metadata": {},
   "outputs": [],
   "source": [
    "losses = pd.DataFrame(model.history.history)"
   ]
  },
  {
   "cell_type": "code",
   "execution_count": 184,
   "metadata": {},
   "outputs": [
    {
     "data": {
      "text/plain": [
       "<AxesSubplot:>"
      ]
     },
     "execution_count": 184,
     "metadata": {},
     "output_type": "execute_result"
    },
    {
     "data": {
      "image/png": "[encoded data removed]",
      "text/plain": [
       "<Figure size 432x288 with 1 Axes>"
      ]
     },
     "metadata": {
      "needs_background": "light"
     },
     "output_type": "display_data"
    }
   ],
   "source": [
    "losses[['loss','val_loss']].plot()"
   ]
  },
  {
   "cell_type": "code",
   "execution_count": 190,
   "metadata": {},
   "outputs": [
    {
     "name": "stdout",
     "output_type": "stream",
     "text": [
      "              precision    recall  f1-score   support\n",
      "\n",
      "         0.0       0.57      0.03      0.05     88404\n",
      "         1.0       0.80      0.99      0.89    355372\n",
      "\n",
      "    accuracy                           0.80    443776\n",
      "   macro avg       0.69      0.51      0.47    443776\n",
      "weighted avg       0.76      0.80      0.72    443776\n",
      "\n"
     ]
    }
   ],
   "source": [
    "predictions = (model.predict(X_test) > 0.5).astype(\"int32\")\n",
    "print(classification_report(y_test,predictions))"
   ]
  },
  {
   "cell_type": "code",
   "execution_count": 188,
   "metadata": {},
   "outputs": [
    {
     "name": "stdout",
     "output_type": "stream",
     "text": [
      "Accuracy of Regularized ANN is: 74.95\n"
     ]
    }
   ],
   "source": [
    "accuracy_ann= accuracy_score(predictions,y_test)*100\n",
    "print('Accuracy of Regularized ANN is: {:.2f}'.format(accuracy_ann))"
   ]
  },
  {
   "cell_type": "code",
   "execution_count": 186,
   "metadata": {},
   "outputs": [
    {
     "data": {
      "image/png": "[encoded data removed]",
      "text/plain": [
       "<Figure size 432x288 with 2 Axes>"
      ]
     },
     "metadata": {
      "needs_background": "light"
     },
     "output_type": "display_data"
    }
   ],
   "source": [
    "from sklearn.metrics import ConfusionMatrixDisplay\n",
    "\n",
    "cm = confusion_matrix(y_test,predictions)\n",
    "f = sns.heatmap(cm, annot=True, fmt='d', cmap='viridis', square=True) #plot_confusion_matrix does not work directly for ANN"
   ]
  },
  {
   "cell_type": "code",
   "execution_count": 187,
   "metadata": {},
   "outputs": [
    {
     "name": "stdout",
     "output_type": "stream",
     "text": [
      "              precision    recall  f1-score   support\n",
      "\n",
      "         0.0       0.38      0.40      0.39     88404\n",
      "         1.0       0.85      0.84      0.84    355372\n",
      "\n",
      "    accuracy                           0.75    443776\n",
      "   macro avg       0.61      0.62      0.61    443776\n",
      "weighted avg       0.75      0.75      0.75    443776\n",
      "\n"
     ]
    }
   ],
   "source": [
    "predictions = (model.predict(X_test) > 0.7).astype(\"int32\")\n",
    "print(classification_report(y_test,predictions))"
   ]
  },
  {
   "cell_type": "markdown",
   "metadata": {},
   "source": [
    "# Conclusion"
   ]
  },
  {
   "cell_type": "markdown",
   "metadata": {},
   "source": [
    "In conclusion, here we have trained 4 different classifiers to predict the customers whose loan was paid fully and whose loan was charged off.\n",
    "These models, far from perfect, was an attempt to predict the lenders who will pay fully or who would not be able to pay back the loan amount.\n",
    "Although, there is definitely a scope of improvement by examining more features and testing different parameters for different models."
   ]
  },
  {
   "cell_type": "code",
   "execution_count": null,
   "metadata": {},
   "outputs": [],
   "source": []
  }
 ],
 "metadata": {
  "kernelspec": {
   "display_name": "Python 3 (ipykernel)",
   "language": "python",
   "name": "python3"
  },
  "language_info": {
   "codemirror_mode": {
    "name": "ipython",
    "version": 3
   },
   "file_extension": ".py",
   "mimetype": "text/x-python",
   "name": "python",
   "nbconvert_exporter": "python",
   "pygments_lexer": "ipython3",
   "version": "3.8.5"
  }
 },
 "nbformat": 4,
 "nbformat_minor": 4
}
